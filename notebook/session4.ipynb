{
 "cells": [
  {
   "cell_type": "code",
   "execution_count": null,
   "metadata": {},
   "outputs": [],
   "source": [
    "import numpy as np\n",
    "data = np.array([map(float, l.split()) for l in open('data.txt')])\n",
    "y = data[:,-1]\n",
    "print 'Data points', len(y)\n",
    "print y.T"
   ]
  },
  {
   "cell_type": "code",
   "execution_count": null,
   "metadata": {},
   "outputs": [],
   "source": [
    "# First define some handy shortcuts \n",
    "dot = np.dot\n",
    "inv = np.linalg.inv\n",
    "# Dummy features\n",
    "X = np.ones((28,1))\n",
    "# Fitting the parameters: theta = (X'*X)^-1*X'*y\n",
    "theta = dot(dot(inv(dot(X.T, X)), X.T), y)\n",
    "print theta"
   ]
  },
  {
   "cell_type": "code",
   "execution_count": null,
   "metadata": {},
   "outputs": [],
   "source": [
    "# MSE = (1/N)*sum((y-X*theta)^2) \n",
    "print sum((y-dot(X, theta))**2) / len(y)"
   ]
  },
  {
   "cell_type": "code",
   "execution_count": null,
   "metadata": {},
   "outputs": [],
   "source": [
    "!head -n 33 x26.txt|tail -n 12"
   ]
  },
  {
   "cell_type": "code",
   "execution_count": null,
   "metadata": {},
   "outputs": [],
   "source": [
    "# Let's add a continuous variable, like the area of the house\n",
    "X = np.hstack((X, data[:,2].reshape(len(y),1)))\n",
    "print X.shape"
   ]
  },
  {
   "cell_type": "code",
   "execution_count": null,
   "metadata": {},
   "outputs": [],
   "source": [
    "from scipy.linalg import lstsq\n",
    "theta = lstsq(X,y)[0]\n",
    "print sum((y-dot(X, theta))**2) / len(y)"
   ]
  },
  {
   "cell_type": "code",
   "execution_count": null,
   "metadata": {},
   "outputs": [],
   "source": [
    "# Let's add the number of garages as anoher variable\n",
    "X = np.hstack((X, data[:,4].reshape(len(y),1)))\n",
    "theta = lstsq(X,y)[0]\n",
    "print sum((y-dot(X, theta))**2) / len(y)"
   ]
  },
  {
   "cell_type": "code",
   "execution_count": null,
   "metadata": {},
   "outputs": [],
   "source": [
    "#To add a categorical variable, like \"construction type\" we have to decide how to represent it. Two options: \n",
    "# 1) Giving a value to every category choice (1, 2, 3, ...).\n",
    "# 2) Using an indicator vector, with a zero for each dimension, except for the active that is one.\n",
    "X1 = np.hstack((X, data[:,8].reshape(len(y),1)))\n",
    "ind = np.zeros((len(y), max(data[:,8]).astype(int)))\n",
    "ind[range(0,len(y)), (data[:,8]-1).astype(int)]=1\n",
    "X2 = np.hstack((X, ind))\n",
    "print 'Representation 1,2,3,4,...', '\\n', X1\n",
    "print 'Representation [0,1,0,0]', '\\n', X2"
   ]
  },
  {
   "cell_type": "code",
   "execution_count": null,
   "metadata": {},
   "outputs": [],
   "source": [
    "theta = lstsq(X1,y)[0]\n",
    "print 'Representation 1,2,3,...', sum((y-dot(X1, theta))**2) / len(y)\n",
    "theta = lstsq(X2,y)[0]\n",
    "print 'Representation [0,1,0,0]', sum((y-dot(X2, theta))**2) / len(y)\n",
    "# Just one word of caution with indicator vectors: if we use more dimensions \n",
    "# than we should, we may end up with a low-rank matrix that we can't invert!"
   ]
  },
  {
   "cell_type": "code",
   "execution_count": null,
   "metadata": {},
   "outputs": [],
   "source": [
    "print 'Back to the slides...'"
   ]
  },
  {
   "cell_type": "code",
   "execution_count": null,
   "metadata": {},
   "outputs": [],
   "source": [
    "R = np.random.random((len(y), 30))\n",
    "theta = lstsq(R,y)[0]\n",
    "print 'Random', sum((y-dot(R, theta))**2) / len(y)"
   ]
  },
  {
   "cell_type": "code",
   "execution_count": null,
   "metadata": {},
   "outputs": [],
   "source": [
    "n = len(y) / 2\n",
    "R = np.random.random((n, 500))\n",
    "theta = lstsq(R,y[:n])[0]\n",
    "print 'Random', sum((y[n:]-dot(R, theta))**2) / n"
   ]
  },
  {
   "cell_type": "code",
   "execution_count": null,
   "metadata": {},
   "outputs": [],
   "source": []
  }
 ],
 "metadata": {
  "kernelspec": {
   "display_name": "Python 3",
   "language": "python",
   "name": "python3"
  },
  "language_info": {
   "codemirror_mode": {
    "name": "ipython",
    "version": 3
   },
   "file_extension": ".py",
   "mimetype": "text/x-python",
   "name": "python",
   "nbconvert_exporter": "python",
   "pygments_lexer": "ipython3",
   "version": "3.6.6"
  }
 },
 "nbformat": 4,
 "nbformat_minor": 1
}
